{
  "nbformat": 4,
  "nbformat_minor": 0,
  "metadata": {
    "colab": {
      "name": "Pratica_MLP",
      "provenance": []
    },
    "kernelspec": {
      "name": "python3",
      "display_name": "Python 3"
    }
  },
  "cells": [
    {
      "cell_type": "markdown",
      "metadata": {
        "id": "uaaQYohWsUyN"
      },
      "source": [
        "# MLP - Multilayer Perceptron \n",
        "* Visualização: https://playground.tensorflow.org/ \n",
        "\n",
        "## Problema de Classificação\n",
        "* **Identificar se um determinado asteroide é perigoso ou não**  \n",
        "* **SUV - Checar essa informação.** \n",
        "\n",
        "\n",
        "Fonte: [MLP](https://www.kaggle.com/shrutimehta/nasa-asteroids-classification)"
      ]
    },
    {
      "cell_type": "markdown",
      "metadata": {
        "id": "raR-Du0JtUm9"
      },
      "source": [
        "## Carregando os Dados"
      ]
    },
    {
      "cell_type": "code",
      "metadata": {
        "colab": {
          "base_uri": "https://localhost:8080/",
          "height": 360
        },
        "id": "fXAXx3M_xSXh",
        "outputId": "44889ccb-f5c4-4a97-d25e-b3d34954be92"
      },
      "source": [
        "import pandas as pd\n",
        "\n",
        "dataset = pd.read_csv(\"https://raw.githubusercontent.com/albathalita/MLP_Keras/main/nasa.csv\")\n",
        "\n",
        "# Transformar uma coluna de str em int\n",
        "dataset['Hazardous'] = dataset['Hazardous'].astype(int)\n",
        "\n",
        "dataset.head() "
      ],
      "execution_count": 1,
      "outputs": [
        {
          "output_type": "execute_result",
          "data": {
            "text/html": [
              "<div>\n",
              "<style scoped>\n",
              "    .dataframe tbody tr th:only-of-type {\n",
              "        vertical-align: middle;\n",
              "    }\n",
              "\n",
              "    .dataframe tbody tr th {\n",
              "        vertical-align: top;\n",
              "    }\n",
              "\n",
              "    .dataframe thead th {\n",
              "        text-align: right;\n",
              "    }\n",
              "</style>\n",
              "<table border=\"1\" class=\"dataframe\">\n",
              "  <thead>\n",
              "    <tr style=\"text-align: right;\">\n",
              "      <th></th>\n",
              "      <th>Neo Reference ID</th>\n",
              "      <th>Name</th>\n",
              "      <th>Absolute Magnitude</th>\n",
              "      <th>Est Dia in KM(min)</th>\n",
              "      <th>Est Dia in KM(max)</th>\n",
              "      <th>Est Dia in M(min)</th>\n",
              "      <th>Est Dia in M(max)</th>\n",
              "      <th>Est Dia in Miles(min)</th>\n",
              "      <th>Est Dia in Miles(max)</th>\n",
              "      <th>Est Dia in Feet(min)</th>\n",
              "      <th>Est Dia in Feet(max)</th>\n",
              "      <th>Close Approach Date</th>\n",
              "      <th>Epoch Date Close Approach</th>\n",
              "      <th>Relative Velocity km per sec</th>\n",
              "      <th>Relative Velocity km per hr</th>\n",
              "      <th>Miles per hour</th>\n",
              "      <th>Miss Dist.(Astronomical)</th>\n",
              "      <th>Miss Dist.(lunar)</th>\n",
              "      <th>Miss Dist.(kilometers)</th>\n",
              "      <th>Miss Dist.(miles)</th>\n",
              "      <th>Orbiting Body</th>\n",
              "      <th>Orbit ID</th>\n",
              "      <th>Orbit Determination Date</th>\n",
              "      <th>Orbit Uncertainity</th>\n",
              "      <th>Minimum Orbit Intersection</th>\n",
              "      <th>Jupiter Tisserand Invariant</th>\n",
              "      <th>Epoch Osculation</th>\n",
              "      <th>Eccentricity</th>\n",
              "      <th>Semi Major Axis</th>\n",
              "      <th>Inclination</th>\n",
              "      <th>Asc Node Longitude</th>\n",
              "      <th>Orbital Period</th>\n",
              "      <th>Perihelion Distance</th>\n",
              "      <th>Perihelion Arg</th>\n",
              "      <th>Aphelion Dist</th>\n",
              "      <th>Perihelion Time</th>\n",
              "      <th>Mean Anomaly</th>\n",
              "      <th>Mean Motion</th>\n",
              "      <th>Equinox</th>\n",
              "      <th>Hazardous</th>\n",
              "    </tr>\n",
              "  </thead>\n",
              "  <tbody>\n",
              "    <tr>\n",
              "      <th>0</th>\n",
              "      <td>3703080</td>\n",
              "      <td>3703080</td>\n",
              "      <td>21.6</td>\n",
              "      <td>0.127220</td>\n",
              "      <td>0.284472</td>\n",
              "      <td>127.219879</td>\n",
              "      <td>284.472297</td>\n",
              "      <td>0.079051</td>\n",
              "      <td>0.176763</td>\n",
              "      <td>417.388066</td>\n",
              "      <td>933.308089</td>\n",
              "      <td>1995-01-01</td>\n",
              "      <td>788947200000</td>\n",
              "      <td>6.115834</td>\n",
              "      <td>22017.003799</td>\n",
              "      <td>13680.509944</td>\n",
              "      <td>0.419483</td>\n",
              "      <td>163.178711</td>\n",
              "      <td>62753692.0</td>\n",
              "      <td>38993336.0</td>\n",
              "      <td>Earth</td>\n",
              "      <td>17</td>\n",
              "      <td>2017-04-06 08:36:37</td>\n",
              "      <td>5</td>\n",
              "      <td>0.025282</td>\n",
              "      <td>4.634</td>\n",
              "      <td>2458000.5</td>\n",
              "      <td>0.425549</td>\n",
              "      <td>1.407011</td>\n",
              "      <td>6.025981</td>\n",
              "      <td>314.373913</td>\n",
              "      <td>609.599786</td>\n",
              "      <td>0.808259</td>\n",
              "      <td>57.257470</td>\n",
              "      <td>2.005764</td>\n",
              "      <td>2.458162e+06</td>\n",
              "      <td>264.837533</td>\n",
              "      <td>0.590551</td>\n",
              "      <td>J2000</td>\n",
              "      <td>1</td>\n",
              "    </tr>\n",
              "    <tr>\n",
              "      <th>1</th>\n",
              "      <td>3723955</td>\n",
              "      <td>3723955</td>\n",
              "      <td>21.3</td>\n",
              "      <td>0.146068</td>\n",
              "      <td>0.326618</td>\n",
              "      <td>146.067964</td>\n",
              "      <td>326.617897</td>\n",
              "      <td>0.090762</td>\n",
              "      <td>0.202951</td>\n",
              "      <td>479.225620</td>\n",
              "      <td>1071.581063</td>\n",
              "      <td>1995-01-01</td>\n",
              "      <td>788947200000</td>\n",
              "      <td>18.113985</td>\n",
              "      <td>65210.346095</td>\n",
              "      <td>40519.173105</td>\n",
              "      <td>0.383014</td>\n",
              "      <td>148.992630</td>\n",
              "      <td>57298148.0</td>\n",
              "      <td>35603420.0</td>\n",
              "      <td>Earth</td>\n",
              "      <td>21</td>\n",
              "      <td>2017-04-06 08:32:49</td>\n",
              "      <td>3</td>\n",
              "      <td>0.186935</td>\n",
              "      <td>5.457</td>\n",
              "      <td>2458000.5</td>\n",
              "      <td>0.351674</td>\n",
              "      <td>1.107776</td>\n",
              "      <td>28.412996</td>\n",
              "      <td>136.717242</td>\n",
              "      <td>425.869294</td>\n",
              "      <td>0.718200</td>\n",
              "      <td>313.091975</td>\n",
              "      <td>1.497352</td>\n",
              "      <td>2.457795e+06</td>\n",
              "      <td>173.741112</td>\n",
              "      <td>0.845330</td>\n",
              "      <td>J2000</td>\n",
              "      <td>0</td>\n",
              "    </tr>\n",
              "    <tr>\n",
              "      <th>2</th>\n",
              "      <td>2446862</td>\n",
              "      <td>2446862</td>\n",
              "      <td>20.3</td>\n",
              "      <td>0.231502</td>\n",
              "      <td>0.517654</td>\n",
              "      <td>231.502122</td>\n",
              "      <td>517.654482</td>\n",
              "      <td>0.143849</td>\n",
              "      <td>0.321655</td>\n",
              "      <td>759.521423</td>\n",
              "      <td>1698.341531</td>\n",
              "      <td>1995-01-08</td>\n",
              "      <td>789552000000</td>\n",
              "      <td>7.590711</td>\n",
              "      <td>27326.560182</td>\n",
              "      <td>16979.661798</td>\n",
              "      <td>0.050956</td>\n",
              "      <td>19.821890</td>\n",
              "      <td>7622911.5</td>\n",
              "      <td>4736657.5</td>\n",
              "      <td>Earth</td>\n",
              "      <td>22</td>\n",
              "      <td>2017-04-06 09:20:19</td>\n",
              "      <td>0</td>\n",
              "      <td>0.043058</td>\n",
              "      <td>4.557</td>\n",
              "      <td>2458000.5</td>\n",
              "      <td>0.348248</td>\n",
              "      <td>1.458824</td>\n",
              "      <td>4.237961</td>\n",
              "      <td>259.475979</td>\n",
              "      <td>643.580228</td>\n",
              "      <td>0.950791</td>\n",
              "      <td>248.415038</td>\n",
              "      <td>1.966857</td>\n",
              "      <td>2.458120e+06</td>\n",
              "      <td>292.893654</td>\n",
              "      <td>0.559371</td>\n",
              "      <td>J2000</td>\n",
              "      <td>1</td>\n",
              "    </tr>\n",
              "    <tr>\n",
              "      <th>3</th>\n",
              "      <td>3092506</td>\n",
              "      <td>3092506</td>\n",
              "      <td>27.4</td>\n",
              "      <td>0.008801</td>\n",
              "      <td>0.019681</td>\n",
              "      <td>8.801465</td>\n",
              "      <td>19.680675</td>\n",
              "      <td>0.005469</td>\n",
              "      <td>0.012229</td>\n",
              "      <td>28.876199</td>\n",
              "      <td>64.569144</td>\n",
              "      <td>1995-01-15</td>\n",
              "      <td>790156800000</td>\n",
              "      <td>11.173874</td>\n",
              "      <td>40225.948191</td>\n",
              "      <td>24994.839864</td>\n",
              "      <td>0.285322</td>\n",
              "      <td>110.990387</td>\n",
              "      <td>42683616.0</td>\n",
              "      <td>26522368.0</td>\n",
              "      <td>Earth</td>\n",
              "      <td>7</td>\n",
              "      <td>2017-04-06 09:15:49</td>\n",
              "      <td>6</td>\n",
              "      <td>0.005512</td>\n",
              "      <td>5.093</td>\n",
              "      <td>2458000.5</td>\n",
              "      <td>0.216578</td>\n",
              "      <td>1.255903</td>\n",
              "      <td>7.905894</td>\n",
              "      <td>57.173266</td>\n",
              "      <td>514.082140</td>\n",
              "      <td>0.983902</td>\n",
              "      <td>18.707701</td>\n",
              "      <td>1.527904</td>\n",
              "      <td>2.457902e+06</td>\n",
              "      <td>68.741007</td>\n",
              "      <td>0.700277</td>\n",
              "      <td>J2000</td>\n",
              "      <td>0</td>\n",
              "    </tr>\n",
              "    <tr>\n",
              "      <th>4</th>\n",
              "      <td>3514799</td>\n",
              "      <td>3514799</td>\n",
              "      <td>21.6</td>\n",
              "      <td>0.127220</td>\n",
              "      <td>0.284472</td>\n",
              "      <td>127.219879</td>\n",
              "      <td>284.472297</td>\n",
              "      <td>0.079051</td>\n",
              "      <td>0.176763</td>\n",
              "      <td>417.388066</td>\n",
              "      <td>933.308089</td>\n",
              "      <td>1995-01-15</td>\n",
              "      <td>790156800000</td>\n",
              "      <td>9.840831</td>\n",
              "      <td>35426.991794</td>\n",
              "      <td>22012.954985</td>\n",
              "      <td>0.407832</td>\n",
              "      <td>158.646713</td>\n",
              "      <td>61010824.0</td>\n",
              "      <td>37910368.0</td>\n",
              "      <td>Earth</td>\n",
              "      <td>25</td>\n",
              "      <td>2017-04-06 08:57:58</td>\n",
              "      <td>1</td>\n",
              "      <td>0.034798</td>\n",
              "      <td>5.154</td>\n",
              "      <td>2458000.5</td>\n",
              "      <td>0.210448</td>\n",
              "      <td>1.225615</td>\n",
              "      <td>16.793382</td>\n",
              "      <td>84.629307</td>\n",
              "      <td>495.597821</td>\n",
              "      <td>0.967687</td>\n",
              "      <td>158.263596</td>\n",
              "      <td>1.483543</td>\n",
              "      <td>2.457814e+06</td>\n",
              "      <td>135.142133</td>\n",
              "      <td>0.726395</td>\n",
              "      <td>J2000</td>\n",
              "      <td>1</td>\n",
              "    </tr>\n",
              "  </tbody>\n",
              "</table>\n",
              "</div>"
            ],
            "text/plain": [
              "   Neo Reference ID     Name  ...  Equinox  Hazardous\n",
              "0           3703080  3703080  ...    J2000          1\n",
              "1           3723955  3723955  ...    J2000          0\n",
              "2           2446862  2446862  ...    J2000          1\n",
              "3           3092506  3092506  ...    J2000          0\n",
              "4           3514799  3514799  ...    J2000          1\n",
              "\n",
              "[5 rows x 40 columns]"
            ]
          },
          "metadata": {
            "tags": []
          },
          "execution_count": 1
        }
      ]
    },
    {
      "cell_type": "code",
      "metadata": {
        "colab": {
          "base_uri": "https://localhost:8080/",
          "height": 351
        },
        "id": "CSUDQDKlxVFi",
        "outputId": "e2e13282-2982-481e-ee23-66c1db8e2f14"
      },
      "source": [
        "dataset.describe()"
      ],
      "execution_count": 2,
      "outputs": [
        {
          "output_type": "execute_result",
          "data": {
            "text/html": [
              "<div>\n",
              "<style scoped>\n",
              "    .dataframe tbody tr th:only-of-type {\n",
              "        vertical-align: middle;\n",
              "    }\n",
              "\n",
              "    .dataframe tbody tr th {\n",
              "        vertical-align: top;\n",
              "    }\n",
              "\n",
              "    .dataframe thead th {\n",
              "        text-align: right;\n",
              "    }\n",
              "</style>\n",
              "<table border=\"1\" class=\"dataframe\">\n",
              "  <thead>\n",
              "    <tr style=\"text-align: right;\">\n",
              "      <th></th>\n",
              "      <th>Neo Reference ID</th>\n",
              "      <th>Name</th>\n",
              "      <th>Absolute Magnitude</th>\n",
              "      <th>Est Dia in KM(min)</th>\n",
              "      <th>Est Dia in KM(max)</th>\n",
              "      <th>Est Dia in M(min)</th>\n",
              "      <th>Est Dia in M(max)</th>\n",
              "      <th>Est Dia in Miles(min)</th>\n",
              "      <th>Est Dia in Miles(max)</th>\n",
              "      <th>Est Dia in Feet(min)</th>\n",
              "      <th>Est Dia in Feet(max)</th>\n",
              "      <th>Epoch Date Close Approach</th>\n",
              "      <th>Relative Velocity km per sec</th>\n",
              "      <th>Relative Velocity km per hr</th>\n",
              "      <th>Miles per hour</th>\n",
              "      <th>Miss Dist.(Astronomical)</th>\n",
              "      <th>Miss Dist.(lunar)</th>\n",
              "      <th>Miss Dist.(kilometers)</th>\n",
              "      <th>Miss Dist.(miles)</th>\n",
              "      <th>Orbit ID</th>\n",
              "      <th>Orbit Uncertainity</th>\n",
              "      <th>Minimum Orbit Intersection</th>\n",
              "      <th>Jupiter Tisserand Invariant</th>\n",
              "      <th>Epoch Osculation</th>\n",
              "      <th>Eccentricity</th>\n",
              "      <th>Semi Major Axis</th>\n",
              "      <th>Inclination</th>\n",
              "      <th>Asc Node Longitude</th>\n",
              "      <th>Orbital Period</th>\n",
              "      <th>Perihelion Distance</th>\n",
              "      <th>Perihelion Arg</th>\n",
              "      <th>Aphelion Dist</th>\n",
              "      <th>Perihelion Time</th>\n",
              "      <th>Mean Anomaly</th>\n",
              "      <th>Mean Motion</th>\n",
              "      <th>Hazardous</th>\n",
              "    </tr>\n",
              "  </thead>\n",
              "  <tbody>\n",
              "    <tr>\n",
              "      <th>count</th>\n",
              "      <td>4.687000e+03</td>\n",
              "      <td>4.687000e+03</td>\n",
              "      <td>4687.000000</td>\n",
              "      <td>4687.000000</td>\n",
              "      <td>4687.000000</td>\n",
              "      <td>4687.000000</td>\n",
              "      <td>4687.000000</td>\n",
              "      <td>4687.000000</td>\n",
              "      <td>4687.000000</td>\n",
              "      <td>4687.000000</td>\n",
              "      <td>4687.000000</td>\n",
              "      <td>4.687000e+03</td>\n",
              "      <td>4687.000000</td>\n",
              "      <td>4687.000000</td>\n",
              "      <td>4687.000000</td>\n",
              "      <td>4687.000000</td>\n",
              "      <td>4687.000000</td>\n",
              "      <td>4.687000e+03</td>\n",
              "      <td>4.687000e+03</td>\n",
              "      <td>4687.000000</td>\n",
              "      <td>4687.000000</td>\n",
              "      <td>4687.000000</td>\n",
              "      <td>4687.000000</td>\n",
              "      <td>4.687000e+03</td>\n",
              "      <td>4687.000000</td>\n",
              "      <td>4687.000000</td>\n",
              "      <td>4687.000000</td>\n",
              "      <td>4687.000000</td>\n",
              "      <td>4687.000000</td>\n",
              "      <td>4687.000000</td>\n",
              "      <td>4687.000000</td>\n",
              "      <td>4687.000000</td>\n",
              "      <td>4.687000e+03</td>\n",
              "      <td>4687.000000</td>\n",
              "      <td>4687.000000</td>\n",
              "      <td>4687.000000</td>\n",
              "    </tr>\n",
              "    <tr>\n",
              "      <th>mean</th>\n",
              "      <td>3.272298e+06</td>\n",
              "      <td>3.272298e+06</td>\n",
              "      <td>22.267865</td>\n",
              "      <td>0.204604</td>\n",
              "      <td>0.457509</td>\n",
              "      <td>204.604203</td>\n",
              "      <td>457.508906</td>\n",
              "      <td>0.127135</td>\n",
              "      <td>0.284283</td>\n",
              "      <td>671.273653</td>\n",
              "      <td>1501.013521</td>\n",
              "      <td>1.179881e+12</td>\n",
              "      <td>13.970811</td>\n",
              "      <td>50294.919829</td>\n",
              "      <td>31251.307268</td>\n",
              "      <td>0.256778</td>\n",
              "      <td>99.886706</td>\n",
              "      <td>3.841347e+07</td>\n",
              "      <td>2.386902e+07</td>\n",
              "      <td>28.300619</td>\n",
              "      <td>3.516962</td>\n",
              "      <td>0.082320</td>\n",
              "      <td>5.056111</td>\n",
              "      <td>2.457724e+06</td>\n",
              "      <td>0.382569</td>\n",
              "      <td>1.400264</td>\n",
              "      <td>13.373844</td>\n",
              "      <td>172.157275</td>\n",
              "      <td>635.582076</td>\n",
              "      <td>0.813383</td>\n",
              "      <td>183.932151</td>\n",
              "      <td>1.987144</td>\n",
              "      <td>2.457728e+06</td>\n",
              "      <td>181.167927</td>\n",
              "      <td>0.738242</td>\n",
              "      <td>0.161084</td>\n",
              "    </tr>\n",
              "    <tr>\n",
              "      <th>std</th>\n",
              "      <td>5.486011e+05</td>\n",
              "      <td>5.486011e+05</td>\n",
              "      <td>2.890972</td>\n",
              "      <td>0.369573</td>\n",
              "      <td>0.826391</td>\n",
              "      <td>369.573402</td>\n",
              "      <td>826.391249</td>\n",
              "      <td>0.229642</td>\n",
              "      <td>0.513496</td>\n",
              "      <td>1212.511199</td>\n",
              "      <td>2711.257465</td>\n",
              "      <td>1.981540e+11</td>\n",
              "      <td>7.293223</td>\n",
              "      <td>26255.601377</td>\n",
              "      <td>16314.209644</td>\n",
              "      <td>0.145798</td>\n",
              "      <td>56.715493</td>\n",
              "      <td>2.181110e+07</td>\n",
              "      <td>1.355279e+07</td>\n",
              "      <td>38.299668</td>\n",
              "      <td>3.078307</td>\n",
              "      <td>0.090300</td>\n",
              "      <td>1.237818</td>\n",
              "      <td>9.202975e+02</td>\n",
              "      <td>0.180444</td>\n",
              "      <td>0.524154</td>\n",
              "      <td>10.936227</td>\n",
              "      <td>103.276777</td>\n",
              "      <td>370.954727</td>\n",
              "      <td>0.242059</td>\n",
              "      <td>103.513035</td>\n",
              "      <td>0.951519</td>\n",
              "      <td>9.442264e+02</td>\n",
              "      <td>107.501623</td>\n",
              "      <td>0.342627</td>\n",
              "      <td>0.367647</td>\n",
              "    </tr>\n",
              "    <tr>\n",
              "      <th>min</th>\n",
              "      <td>2.000433e+06</td>\n",
              "      <td>2.000433e+06</td>\n",
              "      <td>11.160000</td>\n",
              "      <td>0.001011</td>\n",
              "      <td>0.002260</td>\n",
              "      <td>1.010543</td>\n",
              "      <td>2.259644</td>\n",
              "      <td>0.000628</td>\n",
              "      <td>0.001404</td>\n",
              "      <td>3.315431</td>\n",
              "      <td>7.413530</td>\n",
              "      <td>7.889472e+11</td>\n",
              "      <td>0.335504</td>\n",
              "      <td>1207.814804</td>\n",
              "      <td>750.489149</td>\n",
              "      <td>0.000178</td>\n",
              "      <td>0.069194</td>\n",
              "      <td>2.660989e+04</td>\n",
              "      <td>1.653462e+04</td>\n",
              "      <td>1.000000</td>\n",
              "      <td>0.000000</td>\n",
              "      <td>0.000002</td>\n",
              "      <td>2.196000</td>\n",
              "      <td>2.450164e+06</td>\n",
              "      <td>0.007522</td>\n",
              "      <td>0.615920</td>\n",
              "      <td>0.014513</td>\n",
              "      <td>0.001941</td>\n",
              "      <td>176.557161</td>\n",
              "      <td>0.080744</td>\n",
              "      <td>0.006918</td>\n",
              "      <td>0.803765</td>\n",
              "      <td>2.450100e+06</td>\n",
              "      <td>0.003191</td>\n",
              "      <td>0.086285</td>\n",
              "      <td>0.000000</td>\n",
              "    </tr>\n",
              "    <tr>\n",
              "      <th>25%</th>\n",
              "      <td>3.097594e+06</td>\n",
              "      <td>3.097594e+06</td>\n",
              "      <td>20.100000</td>\n",
              "      <td>0.033462</td>\n",
              "      <td>0.074824</td>\n",
              "      <td>33.462237</td>\n",
              "      <td>74.823838</td>\n",
              "      <td>0.020792</td>\n",
              "      <td>0.046493</td>\n",
              "      <td>109.784247</td>\n",
              "      <td>245.485039</td>\n",
              "      <td>1.015574e+12</td>\n",
              "      <td>8.432865</td>\n",
              "      <td>30358.313370</td>\n",
              "      <td>18863.475327</td>\n",
              "      <td>0.133420</td>\n",
              "      <td>51.900211</td>\n",
              "      <td>1.995928e+07</td>\n",
              "      <td>1.240212e+07</td>\n",
              "      <td>9.000000</td>\n",
              "      <td>0.000000</td>\n",
              "      <td>0.014585</td>\n",
              "      <td>4.049500</td>\n",
              "      <td>2.458000e+06</td>\n",
              "      <td>0.240858</td>\n",
              "      <td>1.000635</td>\n",
              "      <td>4.962341</td>\n",
              "      <td>83.081208</td>\n",
              "      <td>365.605031</td>\n",
              "      <td>0.630834</td>\n",
              "      <td>95.625916</td>\n",
              "      <td>1.266059</td>\n",
              "      <td>2.457815e+06</td>\n",
              "      <td>87.006918</td>\n",
              "      <td>0.453289</td>\n",
              "      <td>0.000000</td>\n",
              "    </tr>\n",
              "    <tr>\n",
              "      <th>50%</th>\n",
              "      <td>3.514799e+06</td>\n",
              "      <td>3.514799e+06</td>\n",
              "      <td>21.900000</td>\n",
              "      <td>0.110804</td>\n",
              "      <td>0.247765</td>\n",
              "      <td>110.803882</td>\n",
              "      <td>247.765013</td>\n",
              "      <td>0.068850</td>\n",
              "      <td>0.153954</td>\n",
              "      <td>363.529809</td>\n",
              "      <td>812.877364</td>\n",
              "      <td>1.203062e+12</td>\n",
              "      <td>12.917889</td>\n",
              "      <td>46504.401181</td>\n",
              "      <td>28896.026390</td>\n",
              "      <td>0.265029</td>\n",
              "      <td>103.096123</td>\n",
              "      <td>3.964771e+07</td>\n",
              "      <td>2.463595e+07</td>\n",
              "      <td>16.000000</td>\n",
              "      <td>3.000000</td>\n",
              "      <td>0.047365</td>\n",
              "      <td>5.071000</td>\n",
              "      <td>2.458000e+06</td>\n",
              "      <td>0.372450</td>\n",
              "      <td>1.240981</td>\n",
              "      <td>10.311836</td>\n",
              "      <td>172.625393</td>\n",
              "      <td>504.947292</td>\n",
              "      <td>0.833153</td>\n",
              "      <td>189.761641</td>\n",
              "      <td>1.618195</td>\n",
              "      <td>2.457973e+06</td>\n",
              "      <td>185.718889</td>\n",
              "      <td>0.712946</td>\n",
              "      <td>0.000000</td>\n",
              "    </tr>\n",
              "    <tr>\n",
              "      <th>75%</th>\n",
              "      <td>3.690060e+06</td>\n",
              "      <td>3.690060e+06</td>\n",
              "      <td>24.500000</td>\n",
              "      <td>0.253837</td>\n",
              "      <td>0.567597</td>\n",
              "      <td>253.837029</td>\n",
              "      <td>567.596853</td>\n",
              "      <td>0.157727</td>\n",
              "      <td>0.352688</td>\n",
              "      <td>832.798679</td>\n",
              "      <td>1862.194459</td>\n",
              "      <td>1.355558e+12</td>\n",
              "      <td>18.077649</td>\n",
              "      <td>65079.535405</td>\n",
              "      <td>40437.892430</td>\n",
              "      <td>0.384154</td>\n",
              "      <td>149.435921</td>\n",
              "      <td>5.746863e+07</td>\n",
              "      <td>3.570935e+07</td>\n",
              "      <td>31.000000</td>\n",
              "      <td>6.000000</td>\n",
              "      <td>0.123593</td>\n",
              "      <td>6.019000</td>\n",
              "      <td>2.458000e+06</td>\n",
              "      <td>0.512411</td>\n",
              "      <td>1.678364</td>\n",
              "      <td>19.511681</td>\n",
              "      <td>255.026909</td>\n",
              "      <td>794.195972</td>\n",
              "      <td>0.997227</td>\n",
              "      <td>271.777557</td>\n",
              "      <td>2.451171</td>\n",
              "      <td>2.458108e+06</td>\n",
              "      <td>276.531946</td>\n",
              "      <td>0.984669</td>\n",
              "      <td>0.000000</td>\n",
              "    </tr>\n",
              "    <tr>\n",
              "      <th>max</th>\n",
              "      <td>3.781897e+06</td>\n",
              "      <td>3.781897e+06</td>\n",
              "      <td>32.100000</td>\n",
              "      <td>15.579552</td>\n",
              "      <td>34.836938</td>\n",
              "      <td>15579.552413</td>\n",
              "      <td>34836.938254</td>\n",
              "      <td>9.680682</td>\n",
              "      <td>21.646663</td>\n",
              "      <td>51114.018738</td>\n",
              "      <td>114294.420501</td>\n",
              "      <td>1.473318e+12</td>\n",
              "      <td>44.633747</td>\n",
              "      <td>160681.487851</td>\n",
              "      <td>99841.227826</td>\n",
              "      <td>0.499884</td>\n",
              "      <td>194.454910</td>\n",
              "      <td>7.478160e+07</td>\n",
              "      <td>4.646713e+07</td>\n",
              "      <td>611.000000</td>\n",
              "      <td>9.000000</td>\n",
              "      <td>0.477891</td>\n",
              "      <td>9.025000</td>\n",
              "      <td>2.458020e+06</td>\n",
              "      <td>0.960261</td>\n",
              "      <td>5.072008</td>\n",
              "      <td>75.406667</td>\n",
              "      <td>359.905890</td>\n",
              "      <td>4172.231343</td>\n",
              "      <td>1.299832</td>\n",
              "      <td>359.993098</td>\n",
              "      <td>8.983852</td>\n",
              "      <td>2.458839e+06</td>\n",
              "      <td>359.917991</td>\n",
              "      <td>2.039000</td>\n",
              "      <td>1.000000</td>\n",
              "    </tr>\n",
              "  </tbody>\n",
              "</table>\n",
              "</div>"
            ],
            "text/plain": [
              "       Neo Reference ID          Name  ...  Mean Motion    Hazardous\n",
              "count      4.687000e+03  4.687000e+03  ...  4687.000000  4687.000000\n",
              "mean       3.272298e+06  3.272298e+06  ...     0.738242     0.161084\n",
              "std        5.486011e+05  5.486011e+05  ...     0.342627     0.367647\n",
              "min        2.000433e+06  2.000433e+06  ...     0.086285     0.000000\n",
              "25%        3.097594e+06  3.097594e+06  ...     0.453289     0.000000\n",
              "50%        3.514799e+06  3.514799e+06  ...     0.712946     0.000000\n",
              "75%        3.690060e+06  3.690060e+06  ...     0.984669     0.000000\n",
              "max        3.781897e+06  3.781897e+06  ...     2.039000     1.000000\n",
              "\n",
              "[8 rows x 36 columns]"
            ]
          },
          "metadata": {
            "tags": []
          },
          "execution_count": 2
        }
      ]
    },
    {
      "cell_type": "markdown",
      "metadata": {
        "id": "bvkgKkrNtdkc"
      },
      "source": [
        "## Escolhendo atributos \n",
        "* Magnitude Absluta e Velociade Relativa Km/h"
      ]
    },
    {
      "cell_type": "code",
      "metadata": {
        "colab": {
          "base_uri": "https://localhost:8080/"
        },
        "id": "mCsQOJG0tiBk",
        "outputId": "ea3990c2-be84-474c-da6f-68273ea6d64f"
      },
      "source": [
        "X = dataset.loc[:,['Absolute Magnitude','Relative Velocity km per hr']].values\n",
        "# ou \n",
        "# X = dataset.iloc[:,2:14].values\n",
        "\n",
        "y = dataset['Hazardous'].values\n",
        "# ou \n",
        "# y = dataset.iloc[:,39].values\n",
        "\n",
        "print(X[0:6,:])"
      ],
      "execution_count": 3,
      "outputs": [
        {
          "output_type": "stream",
          "text": [
            "[[2.16000000e+01 2.20170038e+04]\n",
            " [2.13000000e+01 6.52103461e+04]\n",
            " [2.03000000e+01 2.73265602e+04]\n",
            " [2.74000000e+01 4.02259482e+04]\n",
            " [2.16000000e+01 3.54269918e+04]\n",
            " [1.96000000e+01 3.89118383e+04]]\n"
          ],
          "name": "stdout"
        }
      ]
    },
    {
      "cell_type": "code",
      "metadata": {
        "colab": {
          "base_uri": "https://localhost:8080/"
        },
        "id": "vzW7ZC2aK56z",
        "outputId": "f9f0076b-384a-4ce5-ba03-8e46512d0407"
      },
      "source": [
        "y[0:10]"
      ],
      "execution_count": 4,
      "outputs": [
        {
          "output_type": "execute_result",
          "data": {
            "text/plain": [
              "array([1, 0, 1, 0, 1, 0, 0, 0, 0, 1])"
            ]
          },
          "metadata": {
            "tags": []
          },
          "execution_count": 4
        }
      ]
    },
    {
      "cell_type": "markdown",
      "metadata": {
        "id": "eLqqez01ti9S"
      },
      "source": [
        "## Separando entre conjuntos de treinamento e teste"
      ]
    },
    {
      "cell_type": "code",
      "metadata": {
        "id": "2XyAc1qfxgLg"
      },
      "source": [
        "from sklearn.model_selection import train_test_split\n",
        "X_train, X_test, y_train, y_test = train_test_split(X, y, test_size = 0.25, random_state = 0)"
      ],
      "execution_count": 5,
      "outputs": []
    },
    {
      "cell_type": "markdown",
      "metadata": {
        "id": "zAMBa9kCtnJx"
      },
      "source": [
        "## Normalização \n",
        "* A amplitude de variação dos dados são bem diferentes\n",
        "* Permite que a faixa de variação seja equilibrada entre os diferentes atributos \n",
        "* Muitos algoritmos de aprendizado de máquinas são sensíveis a atribuitos com aplitude de valores muito distintos \n",
        "* Vídeo com explicações: https://youtu.be/kIeXOC-Rnb4 "
      ]
    },
    {
      "cell_type": "code",
      "metadata": {
        "id": "y5ECQ8Lex9HI"
      },
      "source": [
        "# Fonte: https://scikit-learn.org/stable/modules/generated/sklearn.preprocessing.MinMaxScaler.html \n",
        "from sklearn.preprocessing import MinMaxScaler\n",
        "\n",
        "sc = MinMaxScaler()\n",
        "\n",
        "X_train = sc.fit_transform(X_train) \n",
        "# Fit é quando precisa fazer ajuste (Só usa uma vez)\n",
        "\n",
        "X_test = sc.transform(X_test)"
      ],
      "execution_count": 6,
      "outputs": []
    },
    {
      "cell_type": "markdown",
      "metadata": {
        "id": "4bhtTMQvuBpb"
      },
      "source": [
        "## Treinamento"
      ]
    },
    {
      "cell_type": "code",
      "metadata": {
        "id": "P6obz58GpVv5"
      },
      "source": [
        "import tensorflow as tf"
      ],
      "execution_count": 7,
      "outputs": []
    },
    {
      "cell_type": "markdown",
      "metadata": {
        "id": "-1bKkRC2yy0z"
      },
      "source": [
        "### Construíndo a estrutra da rede \n",
        "* Arquitetura "
      ]
    },
    {
      "cell_type": "code",
      "metadata": {
        "id": "R9vP1Ex8y30o"
      },
      "source": [
        "# Inicialização \n",
        "classifier = tf.keras.models.Sequential()\n",
        "\n",
        "# Adicionando a camada de entrada e a primeira camada escondida  \n",
        "classifier.add( tf.keras.layers.Dense( activation = 'relu', input_dim = 2, units = 4, kernel_initializer = 'uniform'))\n",
        "# (função de ativação, quantidade de entrada, quantidade de neurônios, pesos)\n",
        "\n",
        "# Adicionando a camada de saída \n",
        "classifier.add( tf.keras.layers.Dense( activation = 'sigmoid', units = 1, kernel_initializer = 'uniform'))\n",
        "# (sigmoi - suavizar a resposta porque ajuda no treinamento, neurônio de saída, pesos)"
      ],
      "execution_count": 8,
      "outputs": []
    },
    {
      "cell_type": "code",
      "metadata": {
        "id": "32rUQq_UzJSp"
      },
      "source": [
        "# Montando a Rede \n",
        "classifier.compile(optimizer = 'adam', loss = 'binary_crossentropy', metrics = ['accuracy'])"
      ],
      "execution_count": 9,
      "outputs": []
    },
    {
      "cell_type": "markdown",
      "metadata": {
        "id": "c0Yc3mkBzMwT"
      },
      "source": [
        "### Executando o treinamento "
      ]
    },
    {
      "cell_type": "code",
      "metadata": {
        "colab": {
          "base_uri": "https://localhost:8080/"
        },
        "id": "0X18WMBQzSGA",
        "outputId": "da219918-0ad7-4868-947c-ff4c36c3b293"
      },
      "source": [
        "classifier.fit(X_train, y_train, batch_size = 1, epochs = 81)\n",
        "# batch_size - apresenta a amostra, recebe uma resposta e compara com a desejada\n",
        "#       calcula o erro e disso ajusta o modelo.\n",
        "\n",
        "# Quanto menor o valor do batch_size, mais tempo irá demorar"
      ],
      "execution_count": 10,
      "outputs": [
        {
          "output_type": "stream",
          "text": [
            "Epoch 1/81\n",
            "3515/3515 [==============================] - 4s 968us/step - loss: 0.5060 - accuracy: 0.8458\n",
            "Epoch 2/81\n",
            "3515/3515 [==============================] - 3s 951us/step - loss: 0.4232 - accuracy: 0.8408\n",
            "Epoch 3/81\n",
            "3515/3515 [==============================] - 3s 932us/step - loss: 0.4132 - accuracy: 0.8409\n",
            "Epoch 4/81\n",
            "3515/3515 [==============================] - 3s 940us/step - loss: 0.4067 - accuracy: 0.8401\n",
            "Epoch 5/81\n",
            "3515/3515 [==============================] - 3s 951us/step - loss: 0.3976 - accuracy: 0.8429\n",
            "Epoch 6/81\n",
            "3515/3515 [==============================] - 3s 941us/step - loss: 0.4103 - accuracy: 0.8302\n",
            "Epoch 7/81\n",
            "3515/3515 [==============================] - 3s 945us/step - loss: 0.3801 - accuracy: 0.8432\n",
            "Epoch 8/81\n",
            "3515/3515 [==============================] - 3s 941us/step - loss: 0.3996 - accuracy: 0.8321\n",
            "Epoch 9/81\n",
            "3515/3515 [==============================] - 3s 948us/step - loss: 0.3792 - accuracy: 0.8355\n",
            "Epoch 10/81\n",
            "3515/3515 [==============================] - 3s 940us/step - loss: 0.3971 - accuracy: 0.8240\n",
            "Epoch 11/81\n",
            "3515/3515 [==============================] - 3s 975us/step - loss: 0.3735 - accuracy: 0.8413\n",
            "Epoch 12/81\n",
            "3515/3515 [==============================] - 3s 947us/step - loss: 0.3657 - accuracy: 0.8504\n",
            "Epoch 13/81\n",
            "3515/3515 [==============================] - 3s 944us/step - loss: 0.3821 - accuracy: 0.8379\n",
            "Epoch 14/81\n",
            "3515/3515 [==============================] - 3s 971us/step - loss: 0.3666 - accuracy: 0.8434\n",
            "Epoch 15/81\n",
            "3515/3515 [==============================] - 3s 941us/step - loss: 0.3774 - accuracy: 0.8367\n",
            "Epoch 16/81\n",
            "3515/3515 [==============================] - 3s 947us/step - loss: 0.3730 - accuracy: 0.8339\n",
            "Epoch 17/81\n",
            "3515/3515 [==============================] - 3s 967us/step - loss: 0.3616 - accuracy: 0.8442\n",
            "Epoch 18/81\n",
            "3515/3515 [==============================] - 3s 933us/step - loss: 0.3597 - accuracy: 0.8454\n",
            "Epoch 19/81\n",
            "3515/3515 [==============================] - 3s 972us/step - loss: 0.3547 - accuracy: 0.8429\n",
            "Epoch 20/81\n",
            "3515/3515 [==============================] - 3s 959us/step - loss: 0.3587 - accuracy: 0.8415\n",
            "Epoch 21/81\n",
            "3515/3515 [==============================] - 3s 961us/step - loss: 0.3598 - accuracy: 0.8375\n",
            "Epoch 22/81\n",
            "3515/3515 [==============================] - 3s 945us/step - loss: 0.3520 - accuracy: 0.8434\n",
            "Epoch 23/81\n",
            "3515/3515 [==============================] - 3s 955us/step - loss: 0.3508 - accuracy: 0.8407\n",
            "Epoch 24/81\n",
            "3515/3515 [==============================] - 3s 955us/step - loss: 0.3739 - accuracy: 0.8252\n",
            "Epoch 25/81\n",
            "3515/3515 [==============================] - 3s 934us/step - loss: 0.3548 - accuracy: 0.8362\n",
            "Epoch 26/81\n",
            "3515/3515 [==============================] - 3s 946us/step - loss: 0.3484 - accuracy: 0.8392\n",
            "Epoch 27/81\n",
            "3515/3515 [==============================] - 3s 934us/step - loss: 0.3521 - accuracy: 0.8349\n",
            "Epoch 28/81\n",
            "3515/3515 [==============================] - 3s 945us/step - loss: 0.3541 - accuracy: 0.8361\n",
            "Epoch 29/81\n",
            "3515/3515 [==============================] - 3s 941us/step - loss: 0.3451 - accuracy: 0.8440\n",
            "Epoch 30/81\n",
            "3515/3515 [==============================] - 3s 949us/step - loss: 0.3553 - accuracy: 0.8319\n",
            "Epoch 31/81\n",
            "3515/3515 [==============================] - 3s 942us/step - loss: 0.3455 - accuracy: 0.8431\n",
            "Epoch 32/81\n",
            "3515/3515 [==============================] - 3s 957us/step - loss: 0.3388 - accuracy: 0.8440\n",
            "Epoch 33/81\n",
            "3515/3515 [==============================] - 3s 955us/step - loss: 0.3397 - accuracy: 0.8432\n",
            "Epoch 34/81\n",
            "3515/3515 [==============================] - 3s 954us/step - loss: 0.3423 - accuracy: 0.8397\n",
            "Epoch 35/81\n",
            "3515/3515 [==============================] - 3s 943us/step - loss: 0.3373 - accuracy: 0.8438\n",
            "Epoch 36/81\n",
            "3515/3515 [==============================] - 3s 952us/step - loss: 0.3414 - accuracy: 0.8424\n",
            "Epoch 37/81\n",
            "3515/3515 [==============================] - 3s 942us/step - loss: 0.3445 - accuracy: 0.8367\n",
            "Epoch 38/81\n",
            "3515/3515 [==============================] - 3s 969us/step - loss: 0.3281 - accuracy: 0.8493\n",
            "Epoch 39/81\n",
            "3515/3515 [==============================] - 3s 953us/step - loss: 0.3427 - accuracy: 0.8392\n",
            "Epoch 40/81\n",
            "3515/3515 [==============================] - 3s 960us/step - loss: 0.3323 - accuracy: 0.8452\n",
            "Epoch 41/81\n",
            "3515/3515 [==============================] - 3s 957us/step - loss: 0.3479 - accuracy: 0.8256\n",
            "Epoch 42/81\n",
            "3515/3515 [==============================] - 3s 946us/step - loss: 0.3455 - accuracy: 0.8358\n",
            "Epoch 43/81\n",
            "3515/3515 [==============================] - 3s 946us/step - loss: 0.3295 - accuracy: 0.8466\n",
            "Epoch 44/81\n",
            "3515/3515 [==============================] - 3s 961us/step - loss: 0.3334 - accuracy: 0.8381\n",
            "Epoch 45/81\n",
            "3515/3515 [==============================] - 3s 966us/step - loss: 0.3309 - accuracy: 0.8411\n",
            "Epoch 46/81\n",
            "3515/3515 [==============================] - 3s 960us/step - loss: 0.3419 - accuracy: 0.8325\n",
            "Epoch 47/81\n",
            "3515/3515 [==============================] - 3s 942us/step - loss: 0.3276 - accuracy: 0.8454\n",
            "Epoch 48/81\n",
            "3515/3515 [==============================] - 3s 956us/step - loss: 0.3231 - accuracy: 0.8489\n",
            "Epoch 49/81\n",
            "3515/3515 [==============================] - 3s 932us/step - loss: 0.3240 - accuracy: 0.8474\n",
            "Epoch 50/81\n",
            "3515/3515 [==============================] - 3s 955us/step - loss: 0.3390 - accuracy: 0.8333\n",
            "Epoch 51/81\n",
            "3515/3515 [==============================] - 3s 966us/step - loss: 0.3262 - accuracy: 0.8483\n",
            "Epoch 52/81\n",
            "3515/3515 [==============================] - 3s 956us/step - loss: 0.3334 - accuracy: 0.8380\n",
            "Epoch 53/81\n",
            "3515/3515 [==============================] - 3s 966us/step - loss: 0.3351 - accuracy: 0.8410\n",
            "Epoch 54/81\n",
            "3515/3515 [==============================] - 3s 981us/step - loss: 0.3226 - accuracy: 0.8451\n",
            "Epoch 55/81\n",
            "3515/3515 [==============================] - 3s 956us/step - loss: 0.3362 - accuracy: 0.8349\n",
            "Epoch 56/81\n",
            "3515/3515 [==============================] - 3s 959us/step - loss: 0.3410 - accuracy: 0.8345\n",
            "Epoch 57/81\n",
            "3515/3515 [==============================] - 3s 939us/step - loss: 0.3359 - accuracy: 0.8429\n",
            "Epoch 58/81\n",
            "3515/3515 [==============================] - 3s 956us/step - loss: 0.3323 - accuracy: 0.8371\n",
            "Epoch 59/81\n",
            "3515/3515 [==============================] - 3s 939us/step - loss: 0.3356 - accuracy: 0.8328\n",
            "Epoch 60/81\n",
            "3515/3515 [==============================] - 3s 961us/step - loss: 0.3360 - accuracy: 0.8356\n",
            "Epoch 61/81\n",
            "3515/3515 [==============================] - 3s 949us/step - loss: 0.3490 - accuracy: 0.8223\n",
            "Epoch 62/81\n",
            "3515/3515 [==============================] - 3s 968us/step - loss: 0.3270 - accuracy: 0.8462\n",
            "Epoch 63/81\n",
            "3515/3515 [==============================] - 3s 968us/step - loss: 0.3363 - accuracy: 0.8342\n",
            "Epoch 64/81\n",
            "3515/3515 [==============================] - 3s 955us/step - loss: 0.3463 - accuracy: 0.8253\n",
            "Epoch 65/81\n",
            "3515/3515 [==============================] - 3s 970us/step - loss: 0.3235 - accuracy: 0.8412\n",
            "Epoch 66/81\n",
            "3515/3515 [==============================] - 3s 970us/step - loss: 0.3254 - accuracy: 0.8407\n",
            "Epoch 67/81\n",
            "3515/3515 [==============================] - 3s 983us/step - loss: 0.3251 - accuracy: 0.8473\n",
            "Epoch 68/81\n",
            "3515/3515 [==============================] - 3s 977us/step - loss: 0.3435 - accuracy: 0.8269\n",
            "Epoch 69/81\n",
            "3515/3515 [==============================] - 3s 970us/step - loss: 0.3188 - accuracy: 0.8468\n",
            "Epoch 70/81\n",
            "3515/3515 [==============================] - 3s 961us/step - loss: 0.3367 - accuracy: 0.8348\n",
            "Epoch 71/81\n",
            "3515/3515 [==============================] - 3s 959us/step - loss: 0.3272 - accuracy: 0.8464\n",
            "Epoch 72/81\n",
            "3515/3515 [==============================] - 3s 970us/step - loss: 0.3217 - accuracy: 0.8397\n",
            "Epoch 73/81\n",
            "3515/3515 [==============================] - 3s 967us/step - loss: 0.3347 - accuracy: 0.8304\n",
            "Epoch 74/81\n",
            "3515/3515 [==============================] - 3s 968us/step - loss: 0.3205 - accuracy: 0.8443\n",
            "Epoch 75/81\n",
            "3515/3515 [==============================] - 3s 958us/step - loss: 0.3444 - accuracy: 0.8252\n",
            "Epoch 76/81\n",
            "3515/3515 [==============================] - 3s 960us/step - loss: 0.3241 - accuracy: 0.8416\n",
            "Epoch 77/81\n",
            "3515/3515 [==============================] - 3s 972us/step - loss: 0.3294 - accuracy: 0.8363\n",
            "Epoch 78/81\n",
            "3515/3515 [==============================] - 3s 976us/step - loss: 0.3211 - accuracy: 0.8442\n",
            "Epoch 79/81\n",
            "3515/3515 [==============================] - 3s 975us/step - loss: 0.3247 - accuracy: 0.8474\n",
            "Epoch 80/81\n",
            "3515/3515 [==============================] - 3s 961us/step - loss: 0.3207 - accuracy: 0.8474\n",
            "Epoch 81/81\n",
            "3515/3515 [==============================] - 3s 980us/step - loss: 0.3136 - accuracy: 0.8507\n"
          ],
          "name": "stdout"
        },
        {
          "output_type": "execute_result",
          "data": {
            "text/plain": [
              "<tensorflow.python.keras.callbacks.History at 0x7f15a652aa90>"
            ]
          },
          "metadata": {
            "tags": []
          },
          "execution_count": 10
        }
      ]
    },
    {
      "cell_type": "markdown",
      "metadata": {
        "id": "W96Q5OLUuIAf"
      },
      "source": [
        "## Avaliando do Modelo"
      ]
    },
    {
      "cell_type": "code",
      "metadata": {
        "colab": {
          "base_uri": "https://localhost:8080/"
        },
        "id": "8tz1z7mU0dAE",
        "outputId": "65f1f2c0-270c-4d14-c1f2-6051d2beb843"
      },
      "source": [
        "y_pred = classifier.predict(X_test)\n",
        "\n",
        "print(y_test[0:35])\n",
        "print(y_pred[0:35])"
      ],
      "execution_count": 11,
      "outputs": [
        {
          "output_type": "stream",
          "text": [
            "[0 0 0 1 0 0 0 0 0 0 1 0 0 1 1 0 0 1 0 0 0 0 1 0 0 0 0 0 0 0 0 0 0 0 0]\n",
            "[[9.7519340e-08]\n",
            " [3.2394990e-01]\n",
            " [1.7681718e-03]\n",
            " [3.1826693e-01]\n",
            " [3.2579577e-01]\n",
            " [2.4129450e-03]\n",
            " [5.0509664e-07]\n",
            " [3.2656586e-01]\n",
            " [3.1534627e-01]\n",
            " [3.0363226e-01]\n",
            " [3.1694838e-01]\n",
            " [6.5425986e-05]\n",
            " [3.2294685e-01]\n",
            " [3.1250679e-01]\n",
            " [3.5915560e-01]\n",
            " [3.1504971e-01]\n",
            " [5.7902270e-09]\n",
            " [3.1305423e-01]\n",
            " [4.2991104e-08]\n",
            " [5.4101974e-08]\n",
            " [7.2312057e-03]\n",
            " [4.8232847e-05]\n",
            " [3.1854320e-01]\n",
            " [3.0850276e-01]\n",
            " [3.0490073e-05]\n",
            " [8.1816211e-08]\n",
            " [2.5865018e-05]\n",
            " [3.2400447e-01]\n",
            " [3.6880695e-06]\n",
            " [2.8401611e-05]\n",
            " [1.2834549e-02]\n",
            " [4.2316765e-02]\n",
            " [2.1174428e-07]\n",
            " [1.4405876e-02]\n",
            " [3.2839668e-01]]\n"
          ],
          "name": "stdout"
        }
      ]
    },
    {
      "cell_type": "code",
      "metadata": {
        "id": "NYqKOIMT1Drv"
      },
      "source": [
        "y_pred_bin = [ ( 1 if elem > 0.5 else 0) for elem in y_pred ] "
      ],
      "execution_count": 12,
      "outputs": []
    },
    {
      "cell_type": "code",
      "metadata": {
        "id": "Zlz1Gc0Y3QTH"
      },
      "source": [
        "import numpy as np\n",
        "\n",
        "y_pred_bin =  np.array(y_pred_bin)"
      ],
      "execution_count": 13,
      "outputs": []
    },
    {
      "cell_type": "code",
      "metadata": {
        "colab": {
          "base_uri": "https://localhost:8080/"
        },
        "id": "v022gBoD5Mvb",
        "outputId": "eba2f9d6-1a16-4a85-e4cc-f6a635908964"
      },
      "source": [
        "print(y_test[0:35])\n",
        "print(y_pred_bin[0:35])"
      ],
      "execution_count": 14,
      "outputs": [
        {
          "output_type": "stream",
          "text": [
            "[0 0 0 1 0 0 0 0 0 0 1 0 0 1 1 0 0 1 0 0 0 0 1 0 0 0 0 0 0 0 0 0 0 0 0]\n",
            "[0 0 0 0 0 0 0 0 0 0 0 0 0 0 0 0 0 0 0 0 0 0 0 0 0 0 0 0 0 0 0 0 0 0 0]\n"
          ],
          "name": "stdout"
        }
      ]
    },
    {
      "cell_type": "code",
      "metadata": {
        "colab": {
          "base_uri": "https://localhost:8080/"
        },
        "id": "dK63myFy5lQZ",
        "outputId": "0972a31e-5ae3-44af-95cd-f14935d3d46e"
      },
      "source": [
        "from sklearn.metrics import accuracy_score\n",
        "\n",
        "print(\"Acurácia: \", accuracy_score(y_test,y_pred_bin)*100, \"%\"  )"
      ],
      "execution_count": 21,
      "outputs": [
        {
          "output_type": "stream",
          "text": [
            "Acurácia:  83.95904436860067 %\n"
          ],
          "name": "stdout"
        }
      ]
    },
    {
      "cell_type": "code",
      "metadata": {
        "colab": {
          "base_uri": "https://localhost:8080/"
        },
        "id": "zfg4tZYz5vaD",
        "outputId": "5701a5fb-e9b1-49c2-d6e6-d29029051b14"
      },
      "source": [
        "from sklearn.metrics import confusion_matrix\n",
        "cm = confusion_matrix(y_test, y_pred_bin)\n",
        "print(\"Matrix de confusão: \")\n",
        "print(cm)\n"
      ],
      "execution_count": 16,
      "outputs": [
        {
          "output_type": "stream",
          "text": [
            "Matrix de confusão: \n",
            "[[984   0]\n",
            " [188   0]]\n"
          ],
          "name": "stdout"
        }
      ]
    },
    {
      "cell_type": "markdown",
      "metadata": {
        "id": "UTbTT7YguLvc"
      },
      "source": [
        "## Visualizando os resultados\n",
        "\n"
      ]
    },
    {
      "cell_type": "code",
      "metadata": {
        "colab": {
          "base_uri": "https://localhost:8080/",
          "height": 295
        },
        "id": "YsSkav8U9G3k",
        "outputId": "468a338c-c384-4c28-8693-5ae0cba17f4b"
      },
      "source": [
        "import matplotlib.pyplot as plt\n",
        "\n",
        "# Seleção dos elementos classificados como negativos (perigoso)\n",
        "mag_neg = X_train[y_train == 0, 0]\n",
        "vel_neg = X_train[y_train == 0, 1]\n",
        "mag_pos = X_train[y_train == 1, 0]\n",
        "vel_pos = X_train[y_train == 1, 1]\n",
        "\n",
        "plt.scatter(mag_pos,vel_pos, color='green', label = 'Seguro')\n",
        "plt.scatter(mag_neg,vel_neg, color='red', label = 'Perigoso')\n",
        "\n",
        "plt.title('SVM - Conjunto de Treinamento')\n",
        "plt.xlabel('Magnitude Absoluta')\n",
        "plt.ylabel('Velocidade Relativa')\n",
        "plt.legend()\n",
        "plt.show()"
      ],
      "execution_count": 17,
      "outputs": [
        {
          "output_type": "display_data",
          "data": {
            "image/png": "[encoded data removed]",
            "text/plain": [
              "<Figure size 432x288 with 1 Axes>"
            ]
          },
          "metadata": {
            "tags": [],
            "needs_background": "light"
          }
        }
      ]
    },
    {
      "cell_type": "code",
      "metadata": {
        "colab": {
          "base_uri": "https://localhost:8080/",
          "height": 282
        },
        "id": "vrEmvM529iII",
        "outputId": "838e76cc-5f66-431a-db40-1c6eab5e7791"
      },
      "source": [
        "vx = np.arange(-0.1, 1.1, 0.025) \n",
        "vy = np.arange(-0.1, 1.1, 0.025)\n",
        "X1, X2 = np.meshgrid(vx,vy) \n",
        "\n",
        "y_pred_mesh =  classifier.predict(np.array([X1.ravel(),X2.ravel()]).T ).reshape(X1.shape)\n",
        "\n",
        "from matplotlib.colors import ListedColormap\n",
        "plt.contourf(X1,X2, y_pred_mesh, alpha  = 0.5, cmap = ListedColormap(('red','green')))"
      ],
      "execution_count": 18,
      "outputs": [
        {
          "output_type": "execute_result",
          "data": {
            "text/plain": [
              "<matplotlib.contour.QuadContourSet at 0x7f15a3115dd0>"
            ]
          },
          "metadata": {
            "tags": []
          },
          "execution_count": 18
        },
        {
          "output_type": "display_data",
          "data": {
            "image/png": "[encoded data removed]",
            "text/plain": [
              "<Figure size 432x288 with 1 Axes>"
            ]
          },
          "metadata": {
            "tags": [],
            "needs_background": "light"
          }
        }
      ]
    },
    {
      "cell_type": "code",
      "metadata": {
        "colab": {
          "base_uri": "https://localhost:8080/",
          "height": 295
        },
        "id": "4HYnOgtd-VQ1",
        "outputId": "f74965a8-5421-44b7-c10a-b383dc839103"
      },
      "source": [
        "mag_neg = X_test[y_test == 0, 0]\n",
        "vel_neg = X_test[y_test == 0, 1]\n",
        "mag_pos = X_test[y_test == 1, 0]\n",
        "vel_pos = X_test[y_test == 1, 1]\n",
        "\n",
        "plt.contourf(X1,X2, y_pred_mesh, alpha  = 0.5, cmap = ListedColormap(('red','green')))\n",
        "\n",
        "plt.scatter(mag_pos,vel_pos, color='green', label = 'Seguro')\n",
        "plt.scatter(mag_neg,vel_neg, color='red', label = 'Perigoso')\n",
        "\n",
        "plt.title('SVM - Conjunto de Treinamento')\n",
        "plt.xlabel('Magnitude Absoluta')\n",
        "plt.ylabel('Velocidade Relativa')\n",
        "plt.legend()\n",
        "plt.show()"
      ],
      "execution_count": 19,
      "outputs": [
        {
          "output_type": "display_data",
          "data": {
            "image/png": "[encoded data removed]",
            "text/plain": [
              "<Figure size 432x288 with 1 Axes>"
            ]
          },
          "metadata": {
            "tags": [],
            "needs_background": "light"
          }
        }
      ]
    },
    {
      "cell_type": "code",
      "metadata": {
        "colab": {
          "base_uri": "https://localhost:8080/"
        },
        "id": "YAASL13--Zg-",
        "outputId": "cd411b5d-7a47-4ab2-f8f7-15c64d729067"
      },
      "source": [
        "y_pred_mesh[30:35,40:45]"
      ],
      "execution_count": 20,
      "outputs": [
        {
          "output_type": "execute_result",
          "data": {
            "text/plain": [
              "array([[7.9153503e-11, 1.5646059e-11, 3.0927079e-12, 6.1132718e-13,\n",
              "        1.2083939e-13],\n",
              "       [8.3192689e-11, 1.6444473e-11, 3.2505279e-12, 6.4252428e-13,\n",
              "        1.2700579e-13],\n",
              "       [8.7438154e-11, 1.7283629e-11, 3.4164015e-12, 6.7531213e-13,\n",
              "        1.3348685e-13],\n",
              "       [9.1900092e-11, 1.8165608e-11, 3.5907395e-12, 7.0977306e-13,\n",
              "        1.4029865e-13],\n",
              "       [9.6590277e-11, 1.9092703e-11, 3.7740028e-12, 7.4599685e-13,\n",
              "        1.4745890e-13]], dtype=float32)"
            ]
          },
          "metadata": {
            "tags": []
          },
          "execution_count": 20
        }
      ]
    }
  ]
}